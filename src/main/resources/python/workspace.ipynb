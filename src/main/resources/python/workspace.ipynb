{
 "cells": [
  {
   "cell_type": "code",
   "execution_count": 1,
   "id": "cae4e3b6-14aa-4ecd-8c27-75f18f10665c",
   "metadata": {},
   "outputs": [
    {
     "name": "stdout",
     "output_type": "stream",
     "text": [
      "Requirement already satisfied: pandas in /opt/homebrew/lib/python3.11/site-packages (2.1.1)\n",
      "Requirement already satisfied: numpy>=1.23.2 in /opt/homebrew/lib/python3.11/site-packages (from pandas) (1.26.0)\n",
      "Requirement already satisfied: python-dateutil>=2.8.2 in /opt/homebrew/lib/python3.11/site-packages (from pandas) (2.8.2)\n",
      "Requirement already satisfied: pytz>=2020.1 in /opt/homebrew/lib/python3.11/site-packages (from pandas) (2023.3.post1)\n",
      "Requirement already satisfied: tzdata>=2022.1 in /opt/homebrew/lib/python3.11/site-packages (from pandas) (2023.3)\n",
      "Requirement already satisfied: six>=1.5 in /opt/homebrew/lib/python3.11/site-packages (from python-dateutil>=2.8.2->pandas) (1.16.0)\n"
     ]
    }
   ],
   "source": [
    "!pip3 install pandas \n",
    "\n"
   ]
  },
  {
   "cell_type": "code",
   "execution_count": 2,
   "id": "439ae1e2-56a6-4c6a-ba0c-afb19090ac06",
   "metadata": {
    "scrolled": true
   },
   "outputs": [
    {
     "name": "stdout",
     "output_type": "stream",
     "text": [
      "Requirement already satisfied: numpy in /opt/homebrew/lib/python3.11/site-packages (1.26.0)\n",
      "Requirement already satisfied: jupytext in /opt/homebrew/lib/python3.11/site-packages (1.15.2)\n",
      "Requirement already satisfied: nbformat in /opt/homebrew/lib/python3.11/site-packages (from jupytext) (5.9.2)\n",
      "Requirement already satisfied: pyyaml in /opt/homebrew/lib/python3.11/site-packages (from jupytext) (6.0.1)\n",
      "Requirement already satisfied: toml in /opt/homebrew/lib/python3.11/site-packages (from jupytext) (0.10.2)\n",
      "Requirement already satisfied: markdown-it-py>=1.0.0 in /opt/homebrew/lib/python3.11/site-packages (from jupytext) (3.0.0)\n",
      "Requirement already satisfied: mdit-py-plugins in /opt/homebrew/lib/python3.11/site-packages (from jupytext) (0.4.0)\n",
      "Requirement already satisfied: mdurl~=0.1 in /opt/homebrew/lib/python3.11/site-packages (from markdown-it-py>=1.0.0->jupytext) (0.1.2)\n",
      "Requirement already satisfied: fastjsonschema in /opt/homebrew/lib/python3.11/site-packages (from nbformat->jupytext) (2.18.0)\n",
      "Requirement already satisfied: jsonschema>=2.6 in /opt/homebrew/lib/python3.11/site-packages (from nbformat->jupytext) (4.19.1)\n",
      "Requirement already satisfied: jupyter-core in /opt/homebrew/lib/python3.11/site-packages (from nbformat->jupytext) (5.3.2)\n",
      "Requirement already satisfied: traitlets>=5.1 in /opt/homebrew/lib/python3.11/site-packages (from nbformat->jupytext) (5.10.1)\n",
      "Requirement already satisfied: attrs>=22.2.0 in /opt/homebrew/lib/python3.11/site-packages (from jsonschema>=2.6->nbformat->jupytext) (23.1.0)\n",
      "Requirement already satisfied: jsonschema-specifications>=2023.03.6 in /opt/homebrew/lib/python3.11/site-packages (from jsonschema>=2.6->nbformat->jupytext) (2023.7.1)\n",
      "Requirement already satisfied: referencing>=0.28.4 in /opt/homebrew/lib/python3.11/site-packages (from jsonschema>=2.6->nbformat->jupytext) (0.30.2)\n",
      "Requirement already satisfied: rpds-py>=0.7.1 in /opt/homebrew/lib/python3.11/site-packages (from jsonschema>=2.6->nbformat->jupytext) (0.10.3)\n",
      "Requirement already satisfied: platformdirs>=2.5 in /opt/homebrew/lib/python3.11/site-packages (from jupyter-core->nbformat->jupytext) (3.10.0)\n"
     ]
    }
   ],
   "source": [
    "!pip3 install numpy jupytext"
   ]
  },
  {
   "cell_type": "code",
   "execution_count": 3,
   "id": "b7f1c89b-7a63-4b45-b971-aa2267fdb7f4",
   "metadata": {},
   "outputs": [],
   "source": [
    "import pandas as pd"
   ]
  },
  {
   "cell_type": "code",
   "execution_count": 4,
   "id": "b67f7aab-ce26-420c-a787-cf018ad201ef",
   "metadata": {},
   "outputs": [],
   "source": [
    "import json"
   ]
  },
  {
   "cell_type": "code",
   "execution_count": 5,
   "id": "3f7df8c4-d584-426b-be50-7f8d675af7ef",
   "metadata": {},
   "outputs": [
    {
     "name": "stdout",
     "output_type": "stream",
     "text": [
      "Requirement already satisfied: xlrd in /opt/homebrew/lib/python3.11/site-packages (2.0.1)\n",
      "Requirement already satisfied: openpyxl in /opt/homebrew/lib/python3.11/site-packages (3.1.2)\n",
      "Requirement already satisfied: et-xmlfile in /opt/homebrew/lib/python3.11/site-packages (from openpyxl) (1.1.0)\n"
     ]
    }
   ],
   "source": [
    "!pip3 install xlrd openpyxl"
   ]
  },
  {
   "cell_type": "code",
   "execution_count": 6,
   "id": "28d243c2-497f-427e-91b3-ef22e1805b3a",
   "metadata": {
    "scrolled": true
   },
   "outputs": [
    {
     "data": {
      "text/plain": [
       "Week            string[python]\n",
       "Day             string[python]\n",
       "Description     string[python]\n",
       "Section         string[python]\n",
       "Section Type    string[python]\n",
       "Activity        string[python]\n",
       "Sets            string[python]\n",
       "Reps            string[python]\n",
       "dtype: object"
      ]
     },
     "execution_count": 6,
     "metadata": {},
     "output_type": "execute_result"
    }
   ],
   "source": [
    "df = pd.read_excel('TrainingScheduleDefinitionscopy2.xlsx')\n",
    "df = pd.read_excel('TrainingScheduleDefinitionscopy2.xlsx', dtype='string')\n",
    "df\n",
    "df.dtypes"
   ]
  },
  {
   "cell_type": "code",
   "execution_count": null,
   "id": "e878b11e-7ebf-441e-8ab8-d5cf9ff4605d",
   "metadata": {},
   "outputs": [],
   "source": []
  },
  {
   "cell_type": "code",
   "execution_count": 7,
   "id": "46207d36-9d84-42f9-92a0-2e004efcb5a0",
   "metadata": {},
   "outputs": [
    {
     "data": {
      "text/html": [
       "<div>\n",
       "<style scoped>\n",
       "    .dataframe tbody tr th:only-of-type {\n",
       "        vertical-align: middle;\n",
       "    }\n",
       "\n",
       "    .dataframe tbody tr th {\n",
       "        vertical-align: top;\n",
       "    }\n",
       "\n",
       "    .dataframe thead th {\n",
       "        text-align: right;\n",
       "    }\n",
       "</style>\n",
       "<table border=\"1\" class=\"dataframe\">\n",
       "  <thead>\n",
       "    <tr style=\"text-align: right;\">\n",
       "      <th></th>\n",
       "      <th>Key</th>\n",
       "      <th>Value1</th>\n",
       "      <th>Value2</th>\n",
       "    </tr>\n",
       "  </thead>\n",
       "  <tbody>\n",
       "    <tr>\n",
       "      <th>0</th>\n",
       "      <td>test1</td>\n",
       "      <td>3</td>\n",
       "      <td>5</td>\n",
       "    </tr>\n",
       "    <tr>\n",
       "      <th>1</th>\n",
       "      <td>test2</td>\n",
       "      <td>6</td>\n",
       "      <td>7</td>\n",
       "    </tr>\n",
       "    <tr>\n",
       "      <th>2</th>\n",
       "      <td>test3</td>\n",
       "      <td>6</td>\n",
       "      <td>5</td>\n",
       "    </tr>\n",
       "  </tbody>\n",
       "</table>\n",
       "</div>"
      ],
      "text/plain": [
       "     Key  Value1  Value2\n",
       "0  test1       3       5\n",
       "1  test2       6       7\n",
       "2  test3       6       5"
      ]
     },
     "execution_count": 7,
     "metadata": {},
     "output_type": "execute_result"
    }
   ],
   "source": [
    "df2 = pd.read_excel('Book1.xlsx')\n",
    "df2"
   ]
  },
  {
   "cell_type": "code",
   "execution_count": 8,
   "id": "719db626-1cbc-4980-802c-24f7113e10c2",
   "metadata": {},
   "outputs": [
    {
     "data": {
      "text/plain": [
       "{'test1': (3, 5), 'test2': (6, 7), 'test3': (6, 5)}"
      ]
     },
     "execution_count": 8,
     "metadata": {},
     "output_type": "execute_result"
    }
   ],
   "source": [
    "dict(zip(df2.Key, zip(df2.Value1, df2.Value2)))"
   ]
  },
  {
   "cell_type": "code",
   "execution_count": 9,
   "id": "bb856a79-e98d-4849-9997-53869e8ef591",
   "metadata": {
    "editable": true,
    "slideshow": {
     "slide_type": ""
    },
    "tags": []
   },
   "outputs": [
    {
     "data": {
      "text/html": [
       "<div>\n",
       "<style scoped>\n",
       "    .dataframe tbody tr th:only-of-type {\n",
       "        vertical-align: middle;\n",
       "    }\n",
       "\n",
       "    .dataframe tbody tr th {\n",
       "        vertical-align: top;\n",
       "    }\n",
       "\n",
       "    .dataframe thead th {\n",
       "        text-align: right;\n",
       "    }\n",
       "</style>\n",
       "<table border=\"1\" class=\"dataframe\">\n",
       "  <thead>\n",
       "    <tr style=\"text-align: right;\">\n",
       "      <th></th>\n",
       "      <th>Week</th>\n",
       "      <th>Day</th>\n",
       "      <th>Description</th>\n",
       "      <th>Section</th>\n",
       "      <th>Section Type</th>\n",
       "      <th>Activity</th>\n",
       "      <th>Sets</th>\n",
       "      <th>Reps</th>\n",
       "    </tr>\n",
       "  </thead>\n",
       "  <tbody>\n",
       "    <tr>\n",
       "      <th>count</th>\n",
       "      <td>2</td>\n",
       "      <td>10</td>\n",
       "      <td>10</td>\n",
       "      <td>48</td>\n",
       "      <td>146</td>\n",
       "      <td>146</td>\n",
       "      <td>146</td>\n",
       "      <td>146</td>\n",
       "    </tr>\n",
       "    <tr>\n",
       "      <th>unique</th>\n",
       "      <td>2</td>\n",
       "      <td>5</td>\n",
       "      <td>5</td>\n",
       "      <td>7</td>\n",
       "      <td>8</td>\n",
       "      <td>24</td>\n",
       "      <td>4</td>\n",
       "      <td>17</td>\n",
       "    </tr>\n",
       "    <tr>\n",
       "      <th>top</th>\n",
       "      <td>1</td>\n",
       "      <td>1</td>\n",
       "      <td>Body Weight Circuit - 3 SETS | 1-15 REPS, Card...</td>\n",
       "      <td>Warm Up</td>\n",
       "      <td>8</td>\n",
       "      <td>Pull-Ups</td>\n",
       "      <td>3</td>\n",
       "      <td>1</td>\n",
       "    </tr>\n",
       "    <tr>\n",
       "      <th>freq</th>\n",
       "      <td>1</td>\n",
       "      <td>2</td>\n",
       "      <td>6</td>\n",
       "      <td>10</td>\n",
       "      <td>100</td>\n",
       "      <td>20</td>\n",
       "      <td>90</td>\n",
       "      <td>28</td>\n",
       "    </tr>\n",
       "  </tbody>\n",
       "</table>\n",
       "</div>"
      ],
      "text/plain": [
       "       Week Day                                        Description  Section  \\\n",
       "count     2  10                                                 10       48   \n",
       "unique    2   5                                                  5        7   \n",
       "top       1   1  Body Weight Circuit - 3 SETS | 1-15 REPS, Card...  Warm Up   \n",
       "freq      1   2                                                  6       10   \n",
       "\n",
       "       Section Type  Activity Sets Reps  \n",
       "count           146       146  146  146  \n",
       "unique            8        24    4   17  \n",
       "top               8  Pull-Ups    3    1  \n",
       "freq            100        20   90   28  "
      ]
     },
     "execution_count": 9,
     "metadata": {},
     "output_type": "execute_result"
    }
   ],
   "source": [
    "#d = dict(zip(df.Week, zip(df.Day, zip(df.Section,  zip(df.Activity, df.Sets, df.Reps))))) \n",
    "\n",
    "#print(type(d))\n",
    "# d.keys()\n",
    "#d.values()\n",
    "\n",
    "#print(df.Week)\n",
    "#df.columns\n",
    "df.describe() "
   ]
  },
  {
   "cell_type": "code",
   "execution_count": 10,
   "id": "067e73f2-12ff-4a91-86b9-e2bba942f8bc",
   "metadata": {},
   "outputs": [
    {
     "name": "stdout",
     "output_type": "stream",
     "text": [
      "<class 'pandas.core.frame.DataFrame'>\n"
     ]
    },
    {
     "data": {
      "text/html": [
       "<div>\n",
       "<style scoped>\n",
       "    .dataframe tbody tr th:only-of-type {\n",
       "        vertical-align: middle;\n",
       "    }\n",
       "\n",
       "    .dataframe tbody tr th {\n",
       "        vertical-align: top;\n",
       "    }\n",
       "\n",
       "    .dataframe thead th {\n",
       "        text-align: right;\n",
       "    }\n",
       "</style>\n",
       "<table border=\"1\" class=\"dataframe\">\n",
       "  <thead>\n",
       "    <tr style=\"text-align: right;\">\n",
       "      <th></th>\n",
       "      <th>Week</th>\n",
       "      <th>Day</th>\n",
       "      <th>Description</th>\n",
       "      <th>Section</th>\n",
       "      <th>Section Type</th>\n",
       "      <th>Activity</th>\n",
       "      <th>Sets</th>\n",
       "      <th>Reps</th>\n",
       "    </tr>\n",
       "  </thead>\n",
       "  <tbody>\n",
       "    <tr>\n",
       "      <th>count</th>\n",
       "      <td>2</td>\n",
       "      <td>10</td>\n",
       "      <td>10</td>\n",
       "      <td>48</td>\n",
       "      <td>146</td>\n",
       "      <td>146</td>\n",
       "      <td>146</td>\n",
       "      <td>146</td>\n",
       "    </tr>\n",
       "    <tr>\n",
       "      <th>unique</th>\n",
       "      <td>2</td>\n",
       "      <td>5</td>\n",
       "      <td>5</td>\n",
       "      <td>7</td>\n",
       "      <td>8</td>\n",
       "      <td>24</td>\n",
       "      <td>4</td>\n",
       "      <td>17</td>\n",
       "    </tr>\n",
       "    <tr>\n",
       "      <th>top</th>\n",
       "      <td>1</td>\n",
       "      <td>1</td>\n",
       "      <td>Body Weight Circuit - 3 SETS | 1-15 REPS, Card...</td>\n",
       "      <td>Warm Up</td>\n",
       "      <td>8</td>\n",
       "      <td>Pull-Ups</td>\n",
       "      <td>3</td>\n",
       "      <td>1</td>\n",
       "    </tr>\n",
       "    <tr>\n",
       "      <th>freq</th>\n",
       "      <td>1</td>\n",
       "      <td>2</td>\n",
       "      <td>6</td>\n",
       "      <td>10</td>\n",
       "      <td>100</td>\n",
       "      <td>20</td>\n",
       "      <td>90</td>\n",
       "      <td>28</td>\n",
       "    </tr>\n",
       "  </tbody>\n",
       "</table>\n",
       "</div>"
      ],
      "text/plain": [
       "       Week Day                                        Description  Section  \\\n",
       "count     2  10                                                 10       48   \n",
       "unique    2   5                                                  5        7   \n",
       "top       1   1  Body Weight Circuit - 3 SETS | 1-15 REPS, Card...  Warm Up   \n",
       "freq      1   2                                                  6       10   \n",
       "\n",
       "       Section Type  Activity Sets Reps  \n",
       "count           146       146  146  146  \n",
       "unique            8        24    4   17  \n",
       "top               8  Pull-Ups    3    1  \n",
       "freq            100        20   90   28  "
      ]
     },
     "execution_count": 10,
     "metadata": {},
     "output_type": "execute_result"
    }
   ],
   "source": [
    "#stringcols = df.select_dtypes(include='object').columns\n",
    "#print(type(stringcols))\n",
    "df.Week.astype(str)\n",
    "df.Day.astype(str)\n",
    "#df[Section Type].astype(str)\n",
    "df.Sets.astype(str)\n",
    "df.Reps.astype(str)\n",
    "\n",
    "\n",
    "\n",
    "#df[stringcols] = df[stringcols].fillna('').astype(str)\n",
    "\n",
    "#df = [df[col_name].astype(str) for col_name in df.columns]\n",
    "print(type(df))\n",
    "df.describe() "
   ]
  },
  {
   "cell_type": "code",
   "execution_count": 16,
   "id": "e5e583e3-25ed-40b9-960d-05ccddd4256f",
   "metadata": {
    "scrolled": true
   },
   "outputs": [
    {
     "data": {
      "text/plain": [
       "'{\"0\":{\"Week\":\"1\",\"Day\":\"1\",\"Description\":\"Body Weight Circuit - 3 SETS | 1-15 REPS, Cardio - Run 30 min, PFT Training\",\"Section\":\"Warm Up\",\"Section Type\":\"1\",\"Activity\":\"Warm-up\",\"Sets\":\"1\",\"Reps\":\"1\"},\"1\":{\"Week\":null,\"Day\":null,\"Description\":null,\"Section\":\"Body weight circuit\",\"Section Type\":\"8\",\"Activity\":\"Push-Ups\",\"Sets\":\"3\",\"Reps\":\"39672\"},\"2\":{\"Week\":null,\"Day\":null,\"Description\":null,\"Section\":null,\"Section Type\":\"8\",\"Activity\":\"Knees-To-Chest\",\"Sets\":\"3\",\"Reps\":\"40466\"},\"3\":{\"Week\":null,\"Day\":null,\"Description\":null,\"Section\":null,\"Section Type\":\"8\",\"Activity\":\"Air-Squats\",\"Sets\":\"3\",\"Reps\":\"40466\"},\"4\":{\"Week\":null,\"Day\":null,\"Description\":null,\"Section\":null,\"Section Type\":\"8\",\"Activity\":\"Pull-Ups\",\"Sets\":\"3\",\"Reps\":\"36894\"},\"5\":{\"Week\":null,\"Day\":null,\"Description\":null,\"Section\":null,\"Section Type\":\"8\",\"Activity\":\"Alt-Knee-To-Elbow\",\"Sets\":\"3\",\"Reps\":\"40466\"},\"6\":{\"Week\":null,\"Day\":null,\"Description\":null,\"Section\":null,\"Section Type\":\"8\",\"Activity\":\"Box-Jumps\",\"Sets\":\"3\",\"Reps\":\"39672\"},\"7\":{\"Week\":null,\"Day\":null,\"Description\":null,\"Section\":null,\"Section Type\":\"8\",\"Activity\":\"Tricep-Dips\",\"Sets\":\"3\",\"Reps\":\"39672\"},\"8\":{\"Week\":null,\"Day\":null,\"Description\":null,\"Section\":null,\"Section Type\":\"8\",\"Activity\":\"Crunches\",\"Sets\":\"3\",\"Reps\":\"40466\"},\"9\":{\"Week\":null,\"Day\":null,\"Description\":null,\"Section\":null,\"Section Type\":\"8\",\"Activity\":\"Lunges\",\"Sets\":\"3\",\"Reps\":\"38482\"},\"10\":{\"Week\":null,\"Day\":null,\"Description\":null,\"Section\":null,\"Section Type\":\"8\",\"Activity\":\"Elbow-To-Hand-Plank\",\"Sets\":\"3\",\"Reps\":\"38478\"},\"11\":{\"Week\":null,\"Day\":null,\"Description\":null,\"Section\":null,\"Section Type\":\"8\",\"Activity\":\"Planks\",\"Sets\":\"3\",\"Reps\":\"20 sec\\\\/35 sec\\\\/20 sec\"},\"12\":{\"Week\":null,\"Day\":null,\"Description\":null,\"Section\":null,\"Section Type\":\"8\",\"Activity\":\"Burpees\",\"Sets\":\"3\",\"Reps\":\"38876\"},\"13\":{\"Week\":null,\"Day\":null,\"Description\":null,\"Section\":\"Cardio\",\"Section Type\":\"9\",\"Activity\":\"Cardio\",\"Sets\":\"1\",\"Reps\":\"1\"},\"14\":{\"Week\":null,\"Day\":null,\"Description\":null,\"Section\":\"PFT Training\",\"Section Type\":\"4\",\"Activity\":\"Pull-Ups\",\"Sets\":\"3\",\"Reps\":\"-1\"},\"15\":{\"Week\":null,\"Day\":null,\"Description\":null,\"Section\":null,\"Section Type\":\"5\",\"Activity\":\"Push-Ups\",\"Sets\":\"3\",\"Reps\":\"-1\"},\"16\":{\"Week\":null,\"Day\":null,\"Description\":null,\"Section\":\"Cool Down\",\"Section Type\":\"2\",\"Activity\":\"Cool-down\",\"Sets\":\"1\",\"Reps\":\"1\"},\"17\":{\"Week\":null,\"Day\":\"2\",\"Description\":\"Body Weight Circuit - 3 SETS | 1-15 REPS, Cardio - Run 30 min, PFT Training\",\"Section\":\"Warm Up\",\"Section Type\":\"1\",\"Activity\":\"Warm-up\",\"Sets\":\"1\",\"Reps\":\"1\"},\"18\":{\"Week\":null,\"Day\":null,\"Description\":null,\"Section\":\"Body weight circuit\",\"Section Type\":\"8\",\"Activity\":\"Push-Ups\",\"Sets\":\"3\",\"Reps\":\"39672\"},\"19\":{\"Week\":null,\"Day\":null,\"Description\":null,\"Section\":null,\"Section Type\":\"8\",\"Activity\":\"Knees-To-Chest\",\"Sets\":\"3\",\"Reps\":\"40466\"},\"20\":{\"Week\":null,\"Day\":null,\"Description\":null,\"Section\":null,\"Section Type\":\"8\",\"Activity\":\"Air-Squats\",\"Sets\":\"3\",\"Reps\":\"40466\"},\"21\":{\"Week\":null,\"Day\":null,\"Description\":null,\"Section\":null,\"Section Type\":\"8\",\"Activity\":\"Pull-Ups\",\"Sets\":\"3\",\"Reps\":\"36894\"},\"22\":{\"Week\":null,\"Day\":null,\"Description\":null,\"Section\":null,\"Section Type\":\"8\",\"Activity\":\"Alt-Knee-To-Elbow\",\"Sets\":\"3\",\"Reps\":\"40466\"},\"23\":{\"Week\":null,\"Day\":null,\"Description\":null,\"Section\":null,\"Section Type\":\"8\",\"Activity\":\"Box-Jumps\",\"Sets\":\"3\",\"Reps\":\"39672\"},\"24\":{\"Week\":null,\"Day\":null,\"Description\":null,\"Section\":null,\"Section Type\":\"8\",\"Activity\":\"Tricep-Dips\",\"Sets\":\"3\",\"Reps\":\"39672\"},\"25\":{\"Week\":null,\"Day\":null,\"Description\":null,\"Section\":null,\"Section Type\":\"8\",\"Activity\":\"Crunches\",\"Sets\":\"3\",\"Reps\":\"40466\"},\"26\":{\"Week\":null,\"Day\":null,\"Description\":null,\"Section\":null,\"Section Type\":\"8\",\"Activity\":\"Lunges\",\"Sets\":\"3\",\"Reps\":\"38482\"},\"27\":{\"Week\":null,\"Day\":null,\"Description\":null,\"Section\":null,\"Section Type\":\"8\",\"Activity\":\"Elbow-To-Hand-Plank\",\"Sets\":\"3\",\"Reps\":\"38478\"},\"28\":{\"Week\":null,\"Day\":null,\"Description\":null,\"Section\":null,\"Section Type\":\"8\",\"Activity\":\"Planks\",\"Sets\":\"3\",\"Reps\":\"20 sec\\\\/35 sec\\\\/20 sec\"},\"29\":{\"Week\":null,\"Day\":null,\"Description\":null,\"Section\":null,\"Section Type\":\"8\",\"Activity\":\"Burpees\",\"Sets\":\"3\",\"Reps\":\"38876\"},\"30\":{\"Week\":null,\"Day\":null,\"Description\":null,\"Section\":\"Cardio\",\"Section Type\":\"9\",\"Activity\":\"Cardio\",\"Sets\":\"1\",\"Reps\":\"1\"},\"31\":{\"Week\":null,\"Day\":null,\"Description\":null,\"Section\":\"PFT Training\",\"Section Type\":\"4\",\"Activity\":\"Pull-Ups\",\"Sets\":\"3\",\"Reps\":\"-1\"},\"32\":{\"Week\":null,\"Day\":null,\"Description\":null,\"Section\":\"Cool Down\",\"Section Type\":\"2\",\"Activity\":\"Cool-down\",\"Sets\":\"1\",\"Reps\":\"1\"},\"33\":{\"Week\":null,\"Day\":\"3\",\"Description\":\"Cardio Circuit - 30 mins - 2 SETS | 6 REPS, PFT Training\",\"Section\":\"Warm Up\",\"Section Type\":\"1\",\"Activity\":\"Warm-up\",\"Sets\":\"1\",\"Reps\":\"1\"},\"34\":{\"Week\":null,\"Day\":null,\"Description\":null,\"Section\":\"Cardio Circuit\",\"Section Type\":\"8\",\"Activity\":\"Plyometric-Jumps\",\"Sets\":\"2\",\"Reps\":\"6\"},\"35\":{\"Week\":null,\"Day\":null,\"Description\":null,\"Section\":null,\"Section Type\":\"8\",\"Activity\":\"Push-Ups\",\"Sets\":\"2\",\"Reps\":\"6\"},\"36\":{\"Week\":null,\"Day\":null,\"Description\":null,\"Section\":null,\"Section Type\":\"8\",\"Activity\":\"Mountain-Climbers\",\"Sets\":\"2\",\"Reps\":\"6\"},\"37\":{\"Week\":null,\"Day\":null,\"Description\":null,\"Section\":null,\"Section Type\":\"8\",\"Activity\":\"Crunches\",\"Sets\":\"2\",\"Reps\":\"6\"},\"38\":{\"Week\":null,\"Day\":null,\"Description\":null,\"Section\":null,\"Section Type\":\"8\",\"Activity\":\"Sprint\",\"Sets\":\"4\",\"Reps\":\"200 Meters\"},\"39\":{\"Week\":null,\"Day\":null,\"Description\":null,\"Section\":null,\"Section Type\":\"8\",\"Activity\":\"Star-Jumps\",\"Sets\":\"2\",\"Reps\":\"6\"},\"40\":{\"Week\":null,\"Day\":null,\"Description\":null,\"Section\":null,\"Section Type\":\"8\",\"Activity\":\"Pull-Ups\",\"Sets\":\"2\",\"Reps\":\"6\"},\"41\":{\"Week\":null,\"Day\":null,\"Description\":null,\"Section\":null,\"Section Type\":\"8\",\"Activity\":\"Bicycle-Crunches\",\"Sets\":\"2\",\"Reps\":\"6\"},\"42\":{\"Week\":null,\"Day\":null,\"Description\":null,\"Section\":\"PFT Training\",\"Section Type\":\"13\",\"Activity\":\"Ammo-Can-Sprint\",\"Sets\":\"3\",\"Reps\":\"45 sec\\\\/30 sec\\\\/20 sec\"},\"43\":{\"Week\":null,\"Day\":null,\"Description\":null,\"Section\":null,\"Section Type\":\"6\",\"Activity\":\"Crunches\",\"Sets\":\"3\",\"Reps\":\"45 sec\\\\/30 sec\\\\/20 sec\"},\"44\":{\"Week\":null,\"Day\":null,\"Description\":null,\"Section\":null,\"Section Type\":\"4\",\"Activity\":\"Pull-Ups\",\"Sets\":\"3\",\"Reps\":\"37349\"},\"45\":{\"Week\":null,\"Day\":null,\"Description\":null,\"Section\":null,\"Section Type\":\"5\",\"Activity\":\"Push-Ups\",\"Sets\":\"3\",\"Reps\":\"25\\\\/20\\\\/15\"},\"46\":{\"Week\":null,\"Day\":null,\"Description\":null,\"Section\":\"Cool Down\",\"Section Type\":\"2\",\"Activity\":\"Cool-down\",\"Sets\":\"1\",\"Reps\":\"1\"},\"47\":{\"Week\":null,\"Day\":\"4\",\"Description\":\"Strength Circuit - 4 SETS | 3 REPS, Cardio - 30 min, PFT Training\",\"Section\":\"Warm Up\",\"Section Type\":\"1\",\"Activity\":\"Warm-up\",\"Sets\":\"1\",\"Reps\":\"1\"},\"48\":{\"Week\":null,\"Day\":null,\"Description\":null,\"Section\":\"Strength Circuit\",\"Section Type\":\"8\",\"Activity\":\"Goblet-Squat\",\"Sets\":\"4\",\"Reps\":\"3\"},\"49\":{\"Week\":null,\"Day\":null,\"Description\":null,\"Section\":null,\"Section Type\":\"8\",\"Activity\":\"Kettlebell-Swing\",\"Sets\":\"4\",\"Reps\":\"3\"},\"50\":{\"Week\":null,\"Day\":null,\"Description\":null,\"Section\":null,\"Section Type\":\"8\",\"Activity\":\"Lunges\",\"Sets\":\"4\",\"Reps\":\"3\"},\"51\":{\"Week\":null,\"Day\":null,\"Description\":null,\"Section\":null,\"Section Type\":\"8\",\"Activity\":\"Push-Ups\",\"Sets\":\"4\",\"Reps\":\"3\"},\"52\":{\"Week\":null,\"Day\":null,\"Description\":null,\"Section\":null,\"Section Type\":\"8\",\"Activity\":\"Push-Press\",\"Sets\":\"4\",\"Reps\":\"3\"},\"53\":{\"Week\":null,\"Day\":null,\"Description\":null,\"Section\":null,\"Section Type\":\"8\",\"Activity\":\"Pull-Ups\",\"Sets\":\"4\",\"Reps\":\"3\"},\"54\":{\"Week\":null,\"Day\":null,\"Description\":null,\"Section\":\"Cardio\",\"Section Type\":\"9\",\"Activity\":\"Cardio\",\"Sets\":\"1\",\"Reps\":\"1\"},\"55\":{\"Week\":null,\"Day\":null,\"Description\":null,\"Section\":\"PFT Training\",\"Section Type\":\"4\",\"Activity\":\"Pull-Ups\",\"Sets\":\"3\",\"Reps\":\"-1\"},\"56\":{\"Week\":null,\"Day\":null,\"Description\":null,\"Section\":\"Cool Down\",\"Section Type\":\"2\",\"Activity\":\"Cool-down\",\"Sets\":\"1\",\"Reps\":\"1\"},\"57\":{\"Week\":null,\"Day\":\"5\",\"Description\":\"Body Weight Circuit - 3 SETS | 1-15 REPS, Cardio - Run 30 min, PFT Training\",\"Section\":\"Warm Up\",\"Section Type\":\"1\",\"Activity\":\"Warm-up\",\"Sets\":\"1\",\"Reps\":\"1\"},\"58\":{\"Week\":null,\"Day\":null,\"Description\":null,\"Section\":\"Body weight circuit\",\"Section Type\":\"8\",\"Activity\":\"Push-Ups\",\"Sets\":\"3\",\"Reps\":\"39672\"},\"59\":{\"Week\":null,\"Day\":null,\"Description\":null,\"Section\":null,\"Section Type\":\"8\",\"Activity\":\"Knees-To-Chest\",\"Sets\":\"3\",\"Reps\":\"40466\"},\"60\":{\"Week\":null,\"Day\":null,\"Description\":null,\"Section\":null,\"Section Type\":\"8\",\"Activity\":\"Air-Squats\",\"Sets\":\"3\",\"Reps\":\"40466\"},\"61\":{\"Week\":null,\"Day\":null,\"Description\":null,\"Section\":null,\"Section Type\":\"8\",\"Activity\":\"Pull-Ups\",\"Sets\":\"3\",\"Reps\":\"36894\"},\"62\":{\"Week\":null,\"Day\":null,\"Description\":null,\"Section\":null,\"Section Type\":\"8\",\"Activity\":\"Alt-Knee-To-Elbow\",\"Sets\":\"3\",\"Reps\":\"40466\"},\"63\":{\"Week\":null,\"Day\":null,\"Description\":null,\"Section\":null,\"Section Type\":\"8\",\"Activity\":\"Box-Jumps\",\"Sets\":\"3\",\"Reps\":\"39672\"},\"64\":{\"Week\":null,\"Day\":null,\"Description\":null,\"Section\":null,\"Section Type\":\"8\",\"Activity\":\"Tricep-Dips\",\"Sets\":\"3\",\"Reps\":\"39672\"},\"65\":{\"Week\":null,\"Day\":null,\"Description\":null,\"Section\":null,\"Section Type\":\"8\",\"Activity\":\"Crunches\",\"Sets\":\"3\",\"Reps\":\"40466\"},\"66\":{\"Week\":null,\"Day\":null,\"Description\":null,\"Section\":null,\"Section Type\":\"8\",\"Activity\":\"Lunges\",\"Sets\":\"3\",\"Reps\":\"38482\"},\"67\":{\"Week\":null,\"Day\":null,\"Description\":null,\"Section\":null,\"Section Type\":\"8\",\"Activity\":\"Elbow-To-Hand-Plank\",\"Sets\":\"3\",\"Reps\":\"38478\"},\"68\":{\"Week\":null,\"Day\":null,\"Description\":null,\"Section\":null,\"Section Type\":\"8\",\"Activity\":\"Planks\",\"Sets\":\"3\",\"Reps\":\"20 sec\\\\/35 sec\\\\/20 sec\"},\"69\":{\"Week\":null,\"Day\":null,\"Description\":null,\"Section\":null,\"Section Type\":\"8\",\"Activity\":\"Burpees\",\"Sets\":\"3\",\"Reps\":\"38876\"},\"70\":{\"Week\":null,\"Day\":null,\"Description\":null,\"Section\":\"Cardio\",\"Section Type\":\"9\",\"Activity\":\"Cardio\",\"Sets\":\"1\",\"Reps\":\"1\"},\"71\":{\"Week\":null,\"Day\":null,\"Description\":null,\"Section\":\"PFT Training\",\"Section Type\":\"4\",\"Activity\":\"Pull-Ups\",\"Sets\":\"3\",\"Reps\":\"-1\"},\"72\":{\"Week\":null,\"Day\":null,\"Description\":null,\"Section\":\"Cool Down\",\"Section Type\":\"2\",\"Activity\":\"Cool-down\",\"Sets\":\"1\",\"Reps\":\"1\"},\"73\":{\"Week\":\"2\",\"Day\":\"1\",\"Description\":\"Body Weight Circuit - 3 SETS | 1-15 REPS, Cardio - Run 30 min, PFT Training\",\"Section\":\"Warm Up\",\"Section Type\":\"1\",\"Activity\":\"Warm-up\",\"Sets\":\"1\",\"Reps\":\"1\"},\"74\":{\"Week\":null,\"Day\":null,\"Description\":null,\"Section\":\"Body weight circuit\",\"Section Type\":\"8\",\"Activity\":\"Push-Ups\",\"Sets\":\"3\",\"Reps\":\"39672\"},\"75\":{\"Week\":null,\"Day\":null,\"Description\":null,\"Section\":null,\"Section Type\":\"8\",\"Activity\":\"Knees-To-Chest\",\"Sets\":\"3\",\"Reps\":\"40466\"},\"76\":{\"Week\":null,\"Day\":null,\"Description\":null,\"Section\":null,\"Section Type\":\"8\",\"Activity\":\"Air-Squats\",\"Sets\":\"3\",\"Reps\":\"40466\"},\"77\":{\"Week\":null,\"Day\":null,\"Description\":null,\"Section\":null,\"Section Type\":\"8\",\"Activity\":\"Pull-Ups\",\"Sets\":\"3\",\"Reps\":\"36894\"},\"78\":{\"Week\":null,\"Day\":null,\"Description\":null,\"Section\":null,\"Section Type\":\"8\",\"Activity\":\"Alt-Knee-To-Elbow\",\"Sets\":\"3\",\"Reps\":\"40466\"},\"79\":{\"Week\":null,\"Day\":null,\"Description\":null,\"Section\":null,\"Section Type\":\"8\",\"Activity\":\"Box-Jumps\",\"Sets\":\"3\",\"Reps\":\"39672\"},\"80\":{\"Week\":null,\"Day\":null,\"Description\":null,\"Section\":null,\"Section Type\":\"8\",\"Activity\":\"Tricep-Dips\",\"Sets\":\"3\",\"Reps\":\"39672\"},\"81\":{\"Week\":null,\"Day\":null,\"Description\":null,\"Section\":null,\"Section Type\":\"8\",\"Activity\":\"Crunches\",\"Sets\":\"3\",\"Reps\":\"40466\"},\"82\":{\"Week\":null,\"Day\":null,\"Description\":null,\"Section\":null,\"Section Type\":\"8\",\"Activity\":\"Lunges\",\"Sets\":\"3\",\"Reps\":\"38482\"},\"83\":{\"Week\":null,\"Day\":null,\"Description\":null,\"Section\":null,\"Section Type\":\"8\",\"Activity\":\"Elbow-To-Hand-Plank\",\"Sets\":\"3\",\"Reps\":\"38478\"},\"84\":{\"Week\":null,\"Day\":null,\"Description\":null,\"Section\":null,\"Section Type\":\"8\",\"Activity\":\"Planks\",\"Sets\":\"3\",\"Reps\":\"20 sec\\\\/35 sec\\\\/20 sec\"},\"85\":{\"Week\":null,\"Day\":null,\"Description\":null,\"Section\":null,\"Section Type\":\"8\",\"Activity\":\"Burpees\",\"Sets\":\"3\",\"Reps\":\"38876\"},\"86\":{\"Week\":null,\"Day\":null,\"Description\":null,\"Section\":\"Cardio\",\"Section Type\":\"9\",\"Activity\":\"Cardio\",\"Sets\":\"1\",\"Reps\":\"1\"},\"87\":{\"Week\":null,\"Day\":null,\"Description\":null,\"Section\":\"PFT Training\",\"Section Type\":\"4\",\"Activity\":\"Pull-Ups\",\"Sets\":\"3\",\"Reps\":\"-1\"},\"88\":{\"Week\":null,\"Day\":null,\"Description\":null,\"Section\":null,\"Section Type\":\"5\",\"Activity\":\"Push-Ups\",\"Sets\":\"3\",\"Reps\":\"-1\"},\"89\":{\"Week\":null,\"Day\":null,\"Description\":null,\"Section\":\"Cool Down\",\"Section Type\":\"2\",\"Activity\":\"Cool-down\",\"Sets\":\"1\",\"Reps\":\"1\"},\"90\":{\"Week\":null,\"Day\":\"2\",\"Description\":\"Body Weight Circuit - 3 SETS | 1-15 REPS, Cardio - Run 30 min, PFT Training\",\"Section\":\"Warm Up\",\"Section Type\":\"1\",\"Activity\":\"Warm-up\",\"Sets\":\"1\",\"Reps\":\"1\"},\"91\":{\"Week\":null,\"Day\":null,\"Description\":null,\"Section\":\"Body weight circuit\",\"Section Type\":\"8\",\"Activity\":\"Push-Ups\",\"Sets\":\"3\",\"Reps\":\"39672\"},\"92\":{\"Week\":null,\"Day\":null,\"Description\":null,\"Section\":null,\"Section Type\":\"8\",\"Activity\":\"Knees-To-Chest\",\"Sets\":\"3\",\"Reps\":\"40466\"},\"93\":{\"Week\":null,\"Day\":null,\"Description\":null,\"Section\":null,\"Section Type\":\"8\",\"Activity\":\"Air-Squats\",\"Sets\":\"3\",\"Reps\":\"40466\"},\"94\":{\"Week\":null,\"Day\":null,\"Description\":null,\"Section\":null,\"Section Type\":\"8\",\"Activity\":\"Pull-Ups\",\"Sets\":\"3\",\"Reps\":\"36894\"},\"95\":{\"Week\":null,\"Day\":null,\"Description\":null,\"Section\":null,\"Section Type\":\"8\",\"Activity\":\"Alt-Knee-To-Elbow\",\"Sets\":\"3\",\"Reps\":\"40466\"},\"96\":{\"Week\":null,\"Day\":null,\"Description\":null,\"Section\":null,\"Section Type\":\"8\",\"Activity\":\"Box-Jumps\",\"Sets\":\"3\",\"Reps\":\"39672\"},\"97\":{\"Week\":null,\"Day\":null,\"Description\":null,\"Section\":null,\"Section Type\":\"8\",\"Activity\":\"Tricep-Dips\",\"Sets\":\"3\",\"Reps\":\"39672\"},\"98\":{\"Week\":null,\"Day\":null,\"Description\":null,\"Section\":null,\"Section Type\":\"8\",\"Activity\":\"Crunches\",\"Sets\":\"3\",\"Reps\":\"40466\"},\"99\":{\"Week\":null,\"Day\":null,\"Description\":null,\"Section\":null,\"Section Type\":\"8\",\"Activity\":\"Lunges\",\"Sets\":\"3\",\"Reps\":\"38482\"},\"100\":{\"Week\":null,\"Day\":null,\"Description\":null,\"Section\":null,\"Section Type\":\"8\",\"Activity\":\"Elbow-To-Hand-Plank\",\"Sets\":\"3\",\"Reps\":\"38478\"},\"101\":{\"Week\":null,\"Day\":null,\"Description\":null,\"Section\":null,\"Section Type\":\"8\",\"Activity\":\"Planks\",\"Sets\":\"3\",\"Reps\":\"20 sec\\\\/35 sec\\\\/20 sec\"},\"102\":{\"Week\":null,\"Day\":null,\"Description\":null,\"Section\":null,\"Section Type\":\"8\",\"Activity\":\"Burpees\",\"Sets\":\"3\",\"Reps\":\"38876\"},\"103\":{\"Week\":null,\"Day\":null,\"Description\":null,\"Section\":\"Cardio\",\"Section Type\":\"9\",\"Activity\":\"Cardio\",\"Sets\":\"1\",\"Reps\":\"1\"},\"104\":{\"Week\":null,\"Day\":null,\"Description\":null,\"Section\":\"PFT Training\",\"Section Type\":\"4\",\"Activity\":\"Pull-Ups\",\"Sets\":\"3\",\"Reps\":\"-1\"},\"105\":{\"Week\":null,\"Day\":null,\"Description\":null,\"Section\":\"Cool Down\",\"Section Type\":\"2\",\"Activity\":\"Cool-down\",\"Sets\":\"1\",\"Reps\":\"1\"},\"106\":{\"Week\":null,\"Day\":\"3\",\"Description\":\"Cardio Circuit - 30 min - 2 SETS | 7 REPS, PFT Training\",\"Section\":\"Warm Up\",\"Section Type\":\"1\",\"Activity\":\"Warm-up\",\"Sets\":\"1\",\"Reps\":\"1\"},\"107\":{\"Week\":null,\"Day\":null,\"Description\":null,\"Section\":\"Cardio Circuit\",\"Section Type\":\"8\",\"Activity\":\"Plyometric-Jumps\",\"Sets\":\"2\",\"Reps\":\"7\"},\"108\":{\"Week\":null,\"Day\":null,\"Description\":null,\"Section\":null,\"Section Type\":\"8\",\"Activity\":\"Push-Ups\",\"Sets\":\"2\",\"Reps\":\"7\"},\"109\":{\"Week\":null,\"Day\":null,\"Description\":null,\"Section\":null,\"Section Type\":\"8\",\"Activity\":\"Mountain-Climbers\",\"Sets\":\"2\",\"Reps\":\"7\"},\"110\":{\"Week\":null,\"Day\":null,\"Description\":null,\"Section\":null,\"Section Type\":\"8\",\"Activity\":\"Crunches\",\"Sets\":\"2\",\"Reps\":\"7\"},\"111\":{\"Week\":null,\"Day\":null,\"Description\":null,\"Section\":null,\"Section Type\":\"8\",\"Activity\":\"Sprint\",\"Sets\":\"4\",\"Reps\":\"200 Meters\"},\"112\":{\"Week\":null,\"Day\":null,\"Description\":null,\"Section\":null,\"Section Type\":\"8\",\"Activity\":\"Star-Jumps\",\"Sets\":\"2\",\"Reps\":\"7\"},\"113\":{\"Week\":null,\"Day\":null,\"Description\":null,\"Section\":null,\"Section Type\":\"8\",\"Activity\":\"Pull-Ups\",\"Sets\":\"2\",\"Reps\":\"7\"},\"114\":{\"Week\":null,\"Day\":null,\"Description\":null,\"Section\":null,\"Section Type\":\"8\",\"Activity\":\"Bicycle-Crunches\",\"Sets\":\"2\",\"Reps\":\"7\"},\"115\":{\"Week\":null,\"Day\":null,\"Description\":null,\"Section\":\"PFT Training\",\"Section Type\":\"13\",\"Activity\":\"Ammo-Can-Sprint\",\"Sets\":\"3\",\"Reps\":\"45 sec\\\\/30 sec\\\\/20 sec\"},\"116\":{\"Week\":null,\"Day\":null,\"Description\":null,\"Section\":null,\"Section Type\":\"6\",\"Activity\":\"Crunches\",\"Sets\":\"3\",\"Reps\":\"45 sec\\\\/30 sec\\\\/20 sec\"},\"117\":{\"Week\":null,\"Day\":null,\"Description\":null,\"Section\":null,\"Section Type\":\"4\",\"Activity\":\"Pull-Ups\",\"Sets\":\"3\",\"Reps\":\"37349\"},\"118\":{\"Week\":null,\"Day\":null,\"Description\":null,\"Section\":null,\"Section Type\":\"5\",\"Activity\":\"Push-Ups\",\"Sets\":\"3\",\"Reps\":\"25\\\\/20\\\\/15\"},\"119\":{\"Week\":null,\"Day\":null,\"Description\":null,\"Section\":\"Cool Down\",\"Section Type\":\"2\",\"Activity\":\"Cool-down\",\"Sets\":\"1\",\"Reps\":\"1\"},\"120\":{\"Week\":null,\"Day\":\"4\",\"Description\":\"Strength Circuit - 4 SETS | 4 REPS, Cardio - 30 min, PFT Training\",\"Section\":\"Warm Up\",\"Section Type\":\"1\",\"Activity\":\"Warm-up\",\"Sets\":\"1\",\"Reps\":\"1\"},\"121\":{\"Week\":null,\"Day\":null,\"Description\":null,\"Section\":\"Strength Circuit\",\"Section Type\":\"8\",\"Activity\":\"Goblet-Squat\",\"Sets\":\"4\",\"Reps\":\"4\"},\"122\":{\"Week\":null,\"Day\":null,\"Description\":null,\"Section\":null,\"Section Type\":\"8\",\"Activity\":\"Kettlebell-Swing\",\"Sets\":\"4\",\"Reps\":\"4\"},\"123\":{\"Week\":null,\"Day\":null,\"Description\":null,\"Section\":null,\"Section Type\":\"8\",\"Activity\":\"Lunges\",\"Sets\":\"4\",\"Reps\":\"4\"},\"124\":{\"Week\":null,\"Day\":null,\"Description\":null,\"Section\":null,\"Section Type\":\"8\",\"Activity\":\"Push-Ups\",\"Sets\":\"4\",\"Reps\":\"4\"},\"125\":{\"Week\":null,\"Day\":null,\"Description\":null,\"Section\":null,\"Section Type\":\"8\",\"Activity\":\"Push-Press\",\"Sets\":\"4\",\"Reps\":\"4\"},\"126\":{\"Week\":null,\"Day\":null,\"Description\":null,\"Section\":null,\"Section Type\":\"8\",\"Activity\":\"Pull-Ups\",\"Sets\":\"4\",\"Reps\":\"4\"},\"127\":{\"Week\":null,\"Day\":null,\"Description\":null,\"Section\":\"Cardio\",\"Section Type\":\"9\",\"Activity\":\"Cardio\",\"Sets\":\"1\",\"Reps\":\"1\"},\"128\":{\"Week\":null,\"Day\":null,\"Description\":null,\"Section\":\"PFT Training\",\"Section Type\":\"4\",\"Activity\":\"Pull-Ups\",\"Sets\":\"3\",\"Reps\":\"-1\"},\"129\":{\"Week\":null,\"Day\":null,\"Description\":null,\"Section\":\"Cool Down\",\"Section Type\":\"2\",\"Activity\":\"Cool-down\",\"Sets\":\"1\",\"Reps\":\"1\"},\"130\":{\"Week\":null,\"Day\":\"5\",\"Description\":\"Body Weight Circuit - 3 SETS | 1-15 REPS, Cardio - Run 30 min, PFT Training\",\"Section\":\"Warm Up\",\"Section Type\":\"1\",\"Activity\":\"Warm-up\",\"Sets\":\"1\",\"Reps\":\"1\"},\"131\":{\"Week\":null,\"Day\":null,\"Description\":null,\"Section\":\"Body weight circuit\",\"Section Type\":\"8\",\"Activity\":\"Push-Ups\",\"Sets\":\"3\",\"Reps\":\"39672\"},\"132\":{\"Week\":null,\"Day\":null,\"Description\":null,\"Section\":null,\"Section Type\":\"8\",\"Activity\":\"Knees-To-Chest\",\"Sets\":\"3\",\"Reps\":\"40466\"},\"133\":{\"Week\":null,\"Day\":null,\"Description\":null,\"Section\":null,\"Section Type\":\"8\",\"Activity\":\"Air-Squats\",\"Sets\":\"3\",\"Reps\":\"40466\"},\"134\":{\"Week\":null,\"Day\":null,\"Description\":null,\"Section\":null,\"Section Type\":\"8\",\"Activity\":\"Pull-Ups\",\"Sets\":\"3\",\"Reps\":\"36894\"},\"135\":{\"Week\":null,\"Day\":null,\"Description\":null,\"Section\":null,\"Section Type\":\"8\",\"Activity\":\"Alt-Knee-To-Elbow\",\"Sets\":\"3\",\"Reps\":\"40466\"},\"136\":{\"Week\":null,\"Day\":null,\"Description\":null,\"Section\":null,\"Section Type\":\"8\",\"Activity\":\"Box-Jumps\",\"Sets\":\"3\",\"Reps\":\"39672\"},\"137\":{\"Week\":null,\"Day\":null,\"Description\":null,\"Section\":null,\"Section Type\":\"8\",\"Activity\":\"Tricep-Dips\",\"Sets\":\"3\",\"Reps\":\"39672\"},\"138\":{\"Week\":null,\"Day\":null,\"Description\":null,\"Section\":null,\"Section Type\":\"8\",\"Activity\":\"Crunches\",\"Sets\":\"3\",\"Reps\":\"40466\"},\"139\":{\"Week\":null,\"Day\":null,\"Description\":null,\"Section\":null,\"Section Type\":\"8\",\"Activity\":\"Lunges\",\"Sets\":\"3\",\"Reps\":\"38482\"},\"140\":{\"Week\":null,\"Day\":null,\"Description\":null,\"Section\":null,\"Section Type\":\"8\",\"Activity\":\"Elbow-To-Hand-Plank\",\"Sets\":\"3\",\"Reps\":\"38478\"},\"141\":{\"Week\":null,\"Day\":null,\"Description\":null,\"Section\":null,\"Section Type\":\"8\",\"Activity\":\"Planks\",\"Sets\":\"3\",\"Reps\":\"20 sec\\\\/35 sec\\\\/20 sec\"},\"142\":{\"Week\":null,\"Day\":null,\"Description\":null,\"Section\":null,\"Section Type\":\"8\",\"Activity\":\"Burpees\",\"Sets\":\"3\",\"Reps\":\"38876\"},\"143\":{\"Week\":null,\"Day\":null,\"Description\":null,\"Section\":\"Cardio\",\"Section Type\":\"9\",\"Activity\":\"Cardio\",\"Sets\":\"1\",\"Reps\":\"1\"},\"144\":{\"Week\":null,\"Day\":null,\"Description\":null,\"Section\":\"PFT Training\",\"Section Type\":\"4\",\"Activity\":\"Pull-Ups\",\"Sets\":\"3\",\"Reps\":\"-1\"},\"145\":{\"Week\":null,\"Day\":null,\"Description\":null,\"Section\":\"Cool Down\",\"Section Type\":\"2\",\"Activity\":\"Cool-down\",\"Sets\":\"1\",\"Reps\":\"1\"}}'"
      ]
     },
     "execution_count": 16,
     "metadata": {},
     "output_type": "execute_result"
    }
   ],
   "source": [
    "json_records = df.to_json(orient='index')\n",
    "\n",
    "# Attempt #4\n",
    "#json_records = df.to_json(orient='columns')\n",
    "#json_records = df.to_json(orient='values')\n",
    "#json_records = df.to_json(orient='split')\n",
    "#json_records = df.to_json(orient='table')\n",
    "json_records"
   ]
  },
  {
   "cell_type": "code",
   "execution_count": 18,
   "id": "8a425557-8f6a-4063-8cea-3612b8db1969",
   "metadata": {},
   "outputs": [
    {
     "name": "stdout",
     "output_type": "stream",
     "text": [
      "<class 'str'>\n",
      "<class 'pandas.core.frame.DataFrame'>\n"
     ]
    },
    {
     "ename": "AttributeError",
     "evalue": "'DataFrame' object has no attribute 'read'",
     "output_type": "error",
     "traceback": [
      "\u001b[0;31m---------------------------------------------------------------------------\u001b[0m",
      "\u001b[0;31mAttributeError\u001b[0m                            Traceback (most recent call last)",
      "\u001b[0;32m/var/folders/2y/_xdy_1592p5gfymcv44bxs480000gn/T/ipykernel_36043/756379416.py\u001b[0m in \u001b[0;36m?\u001b[0;34m()\u001b[0m\n\u001b[1;32m      1\u001b[0m \u001b[0mprint\u001b[0m\u001b[0;34m(\u001b[0m\u001b[0mtype\u001b[0m\u001b[0;34m(\u001b[0m\u001b[0mjson_records\u001b[0m\u001b[0;34m)\u001b[0m\u001b[0;34m)\u001b[0m\u001b[0;34m\u001b[0m\u001b[0;34m\u001b[0m\u001b[0m\n\u001b[1;32m      2\u001b[0m \u001b[0mprint\u001b[0m\u001b[0;34m(\u001b[0m\u001b[0mtype\u001b[0m\u001b[0;34m(\u001b[0m\u001b[0mdf\u001b[0m\u001b[0;34m)\u001b[0m\u001b[0;34m)\u001b[0m\u001b[0;34m\u001b[0m\u001b[0;34m\u001b[0m\u001b[0m\n\u001b[1;32m      3\u001b[0m \u001b[0;34m\u001b[0m\u001b[0m\n\u001b[0;32m----> 4\u001b[0;31m \u001b[0mtest\u001b[0m \u001b[0;34m=\u001b[0m \u001b[0mjson\u001b[0m\u001b[0;34m.\u001b[0m\u001b[0mload\u001b[0m\u001b[0;34m(\u001b[0m\u001b[0mdf\u001b[0m\u001b[0;34m)\u001b[0m\u001b[0;34m\u001b[0m\u001b[0;34m\u001b[0m\u001b[0m\n\u001b[0m",
      "\u001b[0;32m/opt/homebrew/Cellar/python@3.11/3.11.5/Frameworks/Python.framework/Versions/3.11/lib/python3.11/json/__init__.py\u001b[0m in \u001b[0;36m?\u001b[0;34m(fp, cls, object_hook, parse_float, parse_int, parse_constant, object_pairs_hook, **kw)\u001b[0m\n\u001b[1;32m    289\u001b[0m \u001b[0;34m\u001b[0m\u001b[0m\n\u001b[1;32m    290\u001b[0m     \u001b[0mTo\u001b[0m \u001b[0muse\u001b[0m \u001b[0ma\u001b[0m \u001b[0mcustom\u001b[0m\u001b[0;31m \u001b[0m\u001b[0;31m`\u001b[0m\u001b[0;31m`\u001b[0m\u001b[0mJSONDecoder\u001b[0m\u001b[0;31m`\u001b[0m\u001b[0;31m`\u001b[0m \u001b[0msubclass\u001b[0m\u001b[0;34m,\u001b[0m \u001b[0mspecify\u001b[0m \u001b[0mit\u001b[0m \u001b[0;32mwith\u001b[0m \u001b[0mthe\u001b[0m\u001b[0;31m \u001b[0m\u001b[0;31m`\u001b[0m\u001b[0;31m`\u001b[0m\u001b[0mcls\u001b[0m\u001b[0;31m`\u001b[0m\u001b[0;31m`\u001b[0m\u001b[0;34m\u001b[0m\u001b[0;34m\u001b[0m\u001b[0m\n\u001b[1;32m    291\u001b[0m     \u001b[0mkwarg\u001b[0m\u001b[0;34m;\u001b[0m \u001b[0motherwise\u001b[0m\u001b[0;31m \u001b[0m\u001b[0;31m`\u001b[0m\u001b[0;31m`\u001b[0m\u001b[0mJSONDecoder\u001b[0m\u001b[0;31m`\u001b[0m\u001b[0;31m`\u001b[0m \u001b[0;32mis\u001b[0m \u001b[0mused\u001b[0m\u001b[0;34m.\u001b[0m\u001b[0;34m\u001b[0m\u001b[0;34m\u001b[0m\u001b[0m\n\u001b[1;32m    292\u001b[0m     \"\"\"\n\u001b[0;32m--> 293\u001b[0;31m     return loads(fp.read(),\n\u001b[0m\u001b[1;32m    294\u001b[0m         \u001b[0mcls\u001b[0m\u001b[0;34m=\u001b[0m\u001b[0mcls\u001b[0m\u001b[0;34m,\u001b[0m \u001b[0mobject_hook\u001b[0m\u001b[0;34m=\u001b[0m\u001b[0mobject_hook\u001b[0m\u001b[0;34m,\u001b[0m\u001b[0;34m\u001b[0m\u001b[0;34m\u001b[0m\u001b[0m\n\u001b[1;32m    295\u001b[0m         \u001b[0mparse_float\u001b[0m\u001b[0;34m=\u001b[0m\u001b[0mparse_float\u001b[0m\u001b[0;34m,\u001b[0m \u001b[0mparse_int\u001b[0m\u001b[0;34m=\u001b[0m\u001b[0mparse_int\u001b[0m\u001b[0;34m,\u001b[0m\u001b[0;34m\u001b[0m\u001b[0;34m\u001b[0m\u001b[0m\n\u001b[1;32m    296\u001b[0m         parse_constant=parse_constant, object_pairs_hook=object_pairs_hook, **kw)\n",
      "\u001b[0;32m/opt/homebrew/lib/python3.11/site-packages/pandas/core/generic.py\u001b[0m in \u001b[0;36m?\u001b[0;34m(self, name)\u001b[0m\n\u001b[1;32m   6200\u001b[0m             \u001b[0;32mand\u001b[0m \u001b[0mname\u001b[0m \u001b[0;32mnot\u001b[0m \u001b[0;32min\u001b[0m \u001b[0mself\u001b[0m\u001b[0;34m.\u001b[0m\u001b[0m_accessors\u001b[0m\u001b[0;34m\u001b[0m\u001b[0;34m\u001b[0m\u001b[0m\n\u001b[1;32m   6201\u001b[0m             \u001b[0;32mand\u001b[0m \u001b[0mself\u001b[0m\u001b[0;34m.\u001b[0m\u001b[0m_info_axis\u001b[0m\u001b[0;34m.\u001b[0m\u001b[0m_can_hold_identifiers_and_holds_name\u001b[0m\u001b[0;34m(\u001b[0m\u001b[0mname\u001b[0m\u001b[0;34m)\u001b[0m\u001b[0;34m\u001b[0m\u001b[0;34m\u001b[0m\u001b[0m\n\u001b[1;32m   6202\u001b[0m         ):\n\u001b[1;32m   6203\u001b[0m             \u001b[0;32mreturn\u001b[0m \u001b[0mself\u001b[0m\u001b[0;34m[\u001b[0m\u001b[0mname\u001b[0m\u001b[0;34m]\u001b[0m\u001b[0;34m\u001b[0m\u001b[0;34m\u001b[0m\u001b[0m\n\u001b[0;32m-> 6204\u001b[0;31m         \u001b[0;32mreturn\u001b[0m \u001b[0mobject\u001b[0m\u001b[0;34m.\u001b[0m\u001b[0m__getattribute__\u001b[0m\u001b[0;34m(\u001b[0m\u001b[0mself\u001b[0m\u001b[0;34m,\u001b[0m \u001b[0mname\u001b[0m\u001b[0;34m)\u001b[0m\u001b[0;34m\u001b[0m\u001b[0;34m\u001b[0m\u001b[0m\n\u001b[0m",
      "\u001b[0;31mAttributeError\u001b[0m: 'DataFrame' object has no attribute 'read'"
     ]
    }
   ],
   "source": [
    "print(type(json_records))\n",
    "print(type(df))\n",
    "\n",
    "test = json.load(df) \n"
   ]
  },
  {
   "cell_type": "code",
   "execution_count": 11,
   "id": "d1cf6f6b-74fe-45f6-8140-e5249a2ead16",
   "metadata": {},
   "outputs": [],
   "source": [
    "#   'PTSchedule': {'id': '1',\n",
    "#   'name': 'Poolee Default',\n",
    "#milDic = { \n",
    "#    'weeks': [{'week': df.Week[],\n",
    "#               'days' : [{'day': df.Day[],\n",
    "#                          'workouts':[{'name': df.Section[],\n",
    "#                                       'activity':[{'type': df.Activity[], 'sets':df.Sets, 'Reps':df.Reps}]\n",
    "#                                      }]\n",
    "#                         }]\n",
    "#              }]\n",
    "#}\n",
    "milDic = { \n",
    "    'weeks': [{'week': df.Week, # for each ?\n",
    "               'days' : [{'day': df.Day,\n",
    "                          'workouts':[{'name': df.Section,\n",
    "                                       'activity':[{'type': df.Activity, 'sets':df.Sets, 'Reps':df.Reps}]\n",
    "                                      }]\n",
    "                         }]\n",
    "              }]\n",
    "}\n",
    "\n",
    "\n",
    "#from collections import namedtuple\n",
    "#workoutClass = namedtuple(\"name\", \"name weeks days workouts activity sets reps\")\n",
    "\n"
   ]
  },
  {
   "cell_type": "code",
   "execution_count": 13,
   "id": "1c8c6e78-395f-4a34-b663-4e21211d4e82",
   "metadata": {},
   "outputs": [
    {
     "name": "stdout",
     "output_type": "stream",
     "text": [
      "<class 'dict'>\n"
     ]
    }
   ],
   "source": [
    "print(type(milDic))\n"
   ]
  },
  {
   "cell_type": "code",
   "execution_count": 14,
   "id": "7fb86ac8-de00-4aa9-b646-2f5f5e624a9a",
   "metadata": {},
   "outputs": [
    {
     "ename": "AttributeError",
     "evalue": "'dict' object has no attribute 'read'",
     "output_type": "error",
     "traceback": [
      "\u001b[0;31m---------------------------------------------------------------------------\u001b[0m",
      "\u001b[0;31mAttributeError\u001b[0m                            Traceback (most recent call last)",
      "Cell \u001b[0;32mIn[14], line 1\u001b[0m\n\u001b[0;32m----> 1\u001b[0m \u001b[43mjson\u001b[49m\u001b[38;5;241;43m.\u001b[39;49m\u001b[43mload\u001b[49m\u001b[43m(\u001b[49m\u001b[43mmilDic\u001b[49m\u001b[43m)\u001b[49m\n",
      "File \u001b[0;32m/opt/homebrew/Cellar/python@3.11/3.11.5/Frameworks/Python.framework/Versions/3.11/lib/python3.11/json/__init__.py:293\u001b[0m, in \u001b[0;36mload\u001b[0;34m(fp, cls, object_hook, parse_float, parse_int, parse_constant, object_pairs_hook, **kw)\u001b[0m\n\u001b[1;32m    274\u001b[0m \u001b[38;5;28;01mdef\u001b[39;00m \u001b[38;5;21mload\u001b[39m(fp, \u001b[38;5;241m*\u001b[39m, \u001b[38;5;28mcls\u001b[39m\u001b[38;5;241m=\u001b[39m\u001b[38;5;28;01mNone\u001b[39;00m, object_hook\u001b[38;5;241m=\u001b[39m\u001b[38;5;28;01mNone\u001b[39;00m, parse_float\u001b[38;5;241m=\u001b[39m\u001b[38;5;28;01mNone\u001b[39;00m,\n\u001b[1;32m    275\u001b[0m         parse_int\u001b[38;5;241m=\u001b[39m\u001b[38;5;28;01mNone\u001b[39;00m, parse_constant\u001b[38;5;241m=\u001b[39m\u001b[38;5;28;01mNone\u001b[39;00m, object_pairs_hook\u001b[38;5;241m=\u001b[39m\u001b[38;5;28;01mNone\u001b[39;00m, \u001b[38;5;241m*\u001b[39m\u001b[38;5;241m*\u001b[39mkw):\n\u001b[1;32m    276\u001b[0m \u001b[38;5;250m    \u001b[39m\u001b[38;5;124;03m\"\"\"Deserialize ``fp`` (a ``.read()``-supporting file-like object containing\u001b[39;00m\n\u001b[1;32m    277\u001b[0m \u001b[38;5;124;03m    a JSON document) to a Python object.\u001b[39;00m\n\u001b[1;32m    278\u001b[0m \n\u001b[0;32m   (...)\u001b[0m\n\u001b[1;32m    291\u001b[0m \u001b[38;5;124;03m    kwarg; otherwise ``JSONDecoder`` is used.\u001b[39;00m\n\u001b[1;32m    292\u001b[0m \u001b[38;5;124;03m    \"\"\"\u001b[39;00m\n\u001b[0;32m--> 293\u001b[0m     \u001b[38;5;28;01mreturn\u001b[39;00m loads(\u001b[43mfp\u001b[49m\u001b[38;5;241;43m.\u001b[39;49m\u001b[43mread\u001b[49m(),\n\u001b[1;32m    294\u001b[0m         \u001b[38;5;28mcls\u001b[39m\u001b[38;5;241m=\u001b[39m\u001b[38;5;28mcls\u001b[39m, object_hook\u001b[38;5;241m=\u001b[39mobject_hook,\n\u001b[1;32m    295\u001b[0m         parse_float\u001b[38;5;241m=\u001b[39mparse_float, parse_int\u001b[38;5;241m=\u001b[39mparse_int,\n\u001b[1;32m    296\u001b[0m         parse_constant\u001b[38;5;241m=\u001b[39mparse_constant, object_pairs_hook\u001b[38;5;241m=\u001b[39mobject_pairs_hook, \u001b[38;5;241m*\u001b[39m\u001b[38;5;241m*\u001b[39mkw)\n",
      "\u001b[0;31mAttributeError\u001b[0m: 'dict' object has no attribute 'read'"
     ]
    }
   ],
   "source": [
    "json.load(milDic.)"
   ]
  },
  {
   "cell_type": "code",
   "execution_count": null,
   "id": "6213364f-b0ab-4e3e-8880-cfdc44c71b60",
   "metadata": {},
   "outputs": [],
   "source": [
    "# Dict to JSON (file) \n",
    "\n",
    "dict = {\n",
    "    'name' : 'Sarika',\n",
    "    'address' : ['10917 Huntwick st', 'CO', '80130']\n",
    "}\n",
    "\n",
    "with open('./person.json', 'w') as output:\n",
    "    json.dump(dict, output) \n",
    "\n",
    "# {\"name\": \"Sarika\", \"address\": [\"10917 Huntwick st\", \"CO\", \"80130\"]}"
   ]
  },
  {
   "cell_type": "code",
   "execution_count": null,
   "id": "14a8309c-86ed-4d5c-aed5-fb04cd8b9e9b",
   "metadata": {},
   "outputs": [],
   "source": [
    "sampleData = {}\n",
    "\n",
    "with open('./default1.json', 'r') as input:\n",
    "    sampleData = json.load(input) \n",
    "\n",
    "sampleData"
   ]
  }
 ],
 "metadata": {
  "kernelspec": {
   "display_name": "Python 3 (ipykernel)",
   "language": "python",
   "name": "python3"
  },
  "language_info": {
   "codemirror_mode": {
    "name": "ipython",
    "version": 3
   },
   "file_extension": ".py",
   "mimetype": "text/x-python",
   "name": "python",
   "nbconvert_exporter": "python",
   "pygments_lexer": "ipython3",
   "version": "3.11.5"
  }
 },
 "nbformat": 4,
 "nbformat_minor": 5
}
